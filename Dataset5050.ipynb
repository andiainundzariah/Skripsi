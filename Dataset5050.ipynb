{
  "nbformat": 4,
  "nbformat_minor": 0,
  "metadata": {
    "colab": {
      "name": "Dataset5050.ipynb",
      "provenance": [],
      "include_colab_link": true
    },
    "kernelspec": {
      "name": "python3",
      "display_name": "Python 3"
    }
  },
  "cells": [
    {
      "cell_type": "markdown",
      "metadata": {
        "id": "view-in-github",
        "colab_type": "text"
      },
      "source": [
        "<a href=\"https://colab.research.google.com/github/andiainundzariah/Skripsi/blob/master/Dataset5050.ipynb\" target=\"_parent\"><img src=\"https://colab.research.google.com/assets/colab-badge.svg\" alt=\"Open In Colab\"/></a>"
      ]
    },
    {
      "cell_type": "code",
      "metadata": {
        "id": "KvphVVr6NHlJ",
        "colab_type": "code",
        "outputId": "7e763b71-3ded-49fa-d5f3-06eebe065f9f",
        "colab": {
          "base_uri": "https://localhost:8080/",
          "height": 122
        }
      },
      "source": [
        "#untuk menghubungkan colab ke drive\n",
        "\n",
        "from google.colab import drive\n",
        "drive.mount('/content/drive')"
      ],
      "execution_count": 1,
      "outputs": [
        {
          "output_type": "stream",
          "text": [
            "Go to this URL in a browser: https://accounts.google.com/o/oauth2/auth?client_id=947318989803-6bn6qk8qdgf4n4g3pfee6491hc0brc4i.apps.googleusercontent.com&redirect_uri=urn%3aietf%3awg%3aoauth%3a2.0%3aoob&response_type=code&scope=email%20https%3a%2f%2fwww.googleapis.com%2fauth%2fdocs.test%20https%3a%2f%2fwww.googleapis.com%2fauth%2fdrive%20https%3a%2f%2fwww.googleapis.com%2fauth%2fdrive.photos.readonly%20https%3a%2f%2fwww.googleapis.com%2fauth%2fpeopleapi.readonly\n",
            "\n",
            "Enter your authorization code:\n",
            "··········\n",
            "Mounted at /content/drive\n"
          ],
          "name": "stdout"
        }
      ]
    },
    {
      "cell_type": "code",
      "metadata": {
        "id": "jsA564jMN7NM",
        "colab_type": "code",
        "colab": {}
      },
      "source": [
        "import pandas as pd\n",
        "import numpy as np\n",
        "import math\n",
        "import os\n",
        "import matplotlib.pyplot as plt\n",
        "import cv2\n",
        "\n",
        "from sklearn.model_selection import train_test_split\n",
        "from sklearn.preprocessing import StandardScaler \n",
        "from sklearn.neighbors import KNeighborsClassifier\n",
        "\n",
        "from sklearn.metrics import confusion_matrix\n",
        "from sklearn.metrics import f1_score\n",
        "from sklearn.metrics import accuracy_score\n",
        "from sklearn.metrics import precision_score\n",
        "from sklearn.metrics import recall_score\n",
        "\n",
        "from skimage import io\n",
        "from skimage import feature"
      ],
      "execution_count": 0,
      "outputs": []
    },
    {
      "cell_type": "code",
      "metadata": {
        "id": "o9JI7Ay5OUSZ",
        "colab_type": "code",
        "outputId": "abeb0dbc-1330-4807-acfb-9d52dff5710c",
        "colab": {
          "base_uri": "https://localhost:8080/",
          "height": 105
        }
      },
      "source": [
        "pneumonia_data = os.listdir('/content/drive/My Drive/Dataset/DATA5050/Pneumonia/')\n",
        "print(pneumonia_data)\n",
        "print(len(pneumonia_data))\n",
        "\n",
        "tidakPneumonia_data = os.listdir('/content/drive/My Drive/Dataset/DATA5050/Tidak Pneumonia/')\n",
        "print(tidakPneumonia_data)\n",
        "print(len(tidakPneumonia_data))"
      ],
      "execution_count": 11,
      "outputs": [
        {
          "output_type": "stream",
          "text": [
            "['person63_bacteria_306.jpeg', 'person26_bacteria_122.jpeg', 'person69_bacteria_338.jpeg', 'person124_virus_238.jpeg', 'person60_bacteria_287.jpeg', 'person162_virus_319.jpeg', 'person74_bacteria_362.jpeg', 'person53_bacteria_254.jpeg', 'person55_bacteria_265.jpeg', 'person72_bacteria_353.jpeg', 'person51_bacteria_248.jpeg', 'person64_bacteria_316.jpeg', 'person253_bacteria_1156.jpeg', 'person97_virus_181.jpeg', 'person41_bacteria_206.jpeg', 'person255_bacteria_1188.jpeg', 'person24_bacteria_112.jpeg', 'person96_virus_179.jpeg', 'person256_bacteria_1189.jpeg', 'person125_virus_254.jpeg', 'person36_bacteria_183.jpeg', 'person38_bacteria_190.jpeg', 'person7_bacteria_25.jpeg', 'person66_bacteria_326.jpeg', 'person266_bacteria_1238.jpeg', 'person104_virus_191.jpeg', 'person41_bacteria_210.jpeg', 'person68_bacteria_335.jpeg', 'person88_virus_165.jpeg', 'person23_bacteria_102.jpeg', 'person39_bacteria_200.jpeg', 'person264_virus_547.jpeg', 'person124_virus_234.jpeg', 'person3_bacteria_12.jpeg', 'person23_bacteria_91.jpeg', 'person107_virus_197.jpeg', 'person70_bacteria_343.jpeg', 'person76_bacteria_372.jpeg', 'person25_bacteria_113.jpeg', 'person51_bacteria_244.jpeg', 'person137_virus_281.jpeg', 'person9_bacteria_38.jpeg', 'person67_bacteria_331.jpeg', 'person48_bacteria_233.jpeg', 'person5_bacteria_17.jpeg', 'person23_bacteria_87.jpeg', 'person27_bacteria_135.jpeg', 'person258_bacteria_1215.jpeg', 'person20_bacteria_66.jpeg', 'person89_virus_168.jpeg', 'person30_bacteria_151.jpeg', 'person61_bacteria_290.jpeg', 'person259_bacteria_1220.jpeg', 'person265_bacteria_1235.jpeg', 'person20_bacteria_70.jpeg', 'person30_bacteria_147.jpeg', 'person43_bacteria_216.jpeg', 'person24_bacteria_108.jpeg', 'person22_bacteria_74.jpeg', 'person64_bacteria_320.jpeg', 'person260_virus_541.jpeg', 'person81_virus_152.jpeg', 'person7_bacteria_29.jpeg', 'person7_bacteria_28.jpeg', 'person262_bacteria_1226.jpeg', 'person24_bacteria_109.jpeg', 'person103_virus_190.jpeg', 'person30_bacteria_146.jpeg', 'person61_bacteria_291.jpeg', 'person30_bacteria_150.jpeg', 'person20_bacteria_67.jpeg', 'person12_bacteria_48.jpeg', 'person258_bacteria_1214.jpeg', 'person146_virus_296.jpeg', 'person9_bacteria_39.jpeg', 'person130_virus_263.jpeg', 'person5_bacteria_16.jpeg', 'person48_bacteria_232.jpeg', 'person23_bacteria_86.jpeg', 'person67_bacteria_330.jpeg', 'person51_bacteria_245.jpeg', 'person70_bacteria_342.jpeg', 'person147_virus_297.jpeg', 'person3_bacteria_13.jpeg', 'person23_bacteria_90.jpeg', 'person6_bacteria_22.jpeg', 'person266_bacteria_1239.jpeg', 'person88_virus_164.jpeg', 'person41_bacteria_211.jpeg', 'person23_bacteria_103.jpeg', 'person124_virus_242.jpeg', 'person154_virus_306.jpeg', 'person7_bacteria_24.jpeg', 'person36_bacteria_182.jpeg', 'person96_virus_178.jpeg', 'person38_bacteria_191.jpeg', 'person16_bacteria_53.jpeg', 'person155_virus_307.jpeg', 'person1_bacteria_1.jpeg', 'person162_virus_322.jpeg', 'person97_virus_180.jpeg', 'person41_bacteria_207.jpeg', 'person253_bacteria_1157.jpeg', 'person27_bacteria_138.jpeg', 'person2_bacteria_4.jpeg', 'person64_bacteria_317.jpeg', 'person55_bacteria_264.jpeg', 'person72_bacteria_352.jpeg', 'person53_bacteria_255.jpeg', 'person74_bacteria_363.jpeg', 'person263_virus_546.jpeg', 'person257_bacteria_1191.jpeg', 'person60_bacteria_286.jpeg', 'person116_virus_221.jpeg', 'person257_bacteria_1200.jpeg', 'person260_bacteria_1224.jpeg', 'person59_bacteria_284.jpeg', 'person259_bacteria_1217.jpeg', 'person266_bacteria_1242.jpeg', 'person26_bacteria_123.jpeg', 'person124_virus_239.jpeg', 'person54_bacteria_258.jpeg', 'person23_bacteria_78.jpeg', 'person122_virus_229.jpeg', 'person26_bacteria_128.jpeg', 'person23_bacteria_97.jpeg', 'person258_virus_539.jpeg', 'person70_bacteria_345.jpeg', 'person131_virus_265.jpeg', 'person157_virus_311.jpeg', 'person51_bacteria_242.jpeg', 'person25_bacteria_115.jpeg', 'person23_bacteria_81.jpeg', 'person255_bacteria_1182.jpeg', 'person45_bacteria_221.jpeg', 'person51_bacteria_239.jpeg', 'person30_bacteria_157.jpeg', 'person61_bacteria_296.jpeg', 'person56_bacteria_268.jpeg', 'person75_bacteria_365.jpeg', 'person71_bacteria_348.jpeg', 'person258_bacteria_1205.jpeg', 'person62_bacteria_301.jpeg', 'person31_bacteria_160.jpeg', 'person124_virus_249.jpeg', 'person257_bacteria_1196.jpeg', 'person26_bacteria_124.jpeg', 'person19_bacteria_63.jpeg', 'person55_bacteria_263.jpeg', 'person37_bacteria_188.jpeg', 'person25_bacteria_119.jpeg', 'person260_bacteria_1223.jpeg', 'person264_bacteria_1230.jpeg', 'person53_bacteria_252.jpeg', 'person13_bacteria_49.jpeg', 'person59_bacteria_283.jpeg', 'person141_virus_287.jpeg', 'person50_bacteria_238.jpeg', 'person64_bacteria_310.jpeg', 'person26_bacteria_132.jpeg', 'person16_bacteria_54.jpeg', 'person255_bacteria_1161.jpeg', 'person19_bacteria_59.jpeg', 'person2_bacteria_3.jpeg', 'person110_virus_207.jpeg', 'person73_bacteria_358.jpeg', 'person34_bacteria_176.jpeg', 'person58_bacteria_277.jpeg', 'person111_virus_210.jpeg', 'person108_virus_200.jpeg', 'person77_bacteria_375.jpeg', 'person36_bacteria_185.jpeg', 'person38_bacteria_196.jpeg', 'person52_bacteria_249.jpeg', 'person124_virus_245.jpeg', 'person75_bacteria_369.jpeg', 'person23_bacteria_104.jpeg', 'person258_bacteria_1209.jpeg', 'person257_virus_538.jpeg', 'person88_virus_163.jpeg', 'person23_bacteria_105.jpeg', 'person258_bacteria_1208.jpeg', 'person124_virus_244.jpeg', 'person75_bacteria_368.jpeg', 'person36_bacteria_184.jpeg', 'person108_virus_201.jpeg', 'person77_bacteria_374.jpeg', 'person58_bacteria_276.jpeg', 'person14_bacteria_51.jpeg', 'person73_bacteria_359.jpeg', 'person255_bacteria_1160.jpeg', 'person16_bacteria_55.jpeg', 'person19_bacteria_58.jpeg', 'person49_bacteria_235.jpeg', 'person110_virus_206.jpeg', 'person26_bacteria_133.jpeg', 'person25_bacteria_118.jpeg', 'person72_bacteria_354.jpeg', 'person55_bacteria_262.jpeg', 'person53_bacteria_253.jpeg', 'person59_bacteria_282.jpeg', 'person37_bacteria_189.jpeg', 'person257_bacteria_1197.jpeg', 'person101_virus_187.jpeg', 'person264_bacteria_1231.jpeg', 'person19_bacteria_62.jpeg', 'person260_bacteria_1222.jpeg', 'person28_bacteria_141.jpeg', 'person62_bacteria_300.jpeg', 'person31_bacteria_161.jpeg', 'person71_bacteria_349.jpeg', 'person86_virus_159.jpeg', 'person75_bacteria_364.jpeg', 'person45_bacteria_220.jpeg', 'person61_bacteria_297.jpeg', 'person30_bacteria_156.jpeg', 'person56_bacteria_269.jpeg', 'person90_virus_169.jpeg', 'person73_bacteria_355.jpeg', 'person258_bacteria_1212.jpeg', 'person23_bacteria_80.jpeg', 'person92_virus_174.jpeg', 'person25_bacteria_114.jpeg', 'person51_bacteria_243.jpeg', 'person70_bacteria_344.jpeg', 'person23_bacteria_79.jpeg', 'person113_virus_216.jpeg', 'person26_bacteria_129.jpeg', 'person93_virus_175.jpeg', 'person124_virus_233.jpeg', 'person23_bacteria_96.jpeg', 'person126_virus_255.jpeg', 'person32_bacteria_166.jpeg', 'person258_bacteria_1207.jpeg', 'person28_bacteria_142.jpeg', 'person31_bacteria_162.jpeg', 'person62_bacteria_303.jpeg', 'person52_bacteria_251.jpeg', 'person61_bacteria_294.jpeg', 'person75_bacteria_367.jpeg', 'person73_bacteria_356.jpeg', 'person30_bacteria_155.jpeg', 'person47_bacteria_229.jpeg', 'person46_bacteria_224.jpeg', 'person23_bacteria_83.jpeg', 'person264_bacteria_1228.jpeg', 'person25_bacteria_117.jpeg', 'person51_bacteria_240.jpeg', 'person115_virus_218.jpeg', 'person40_bacteria_203.jpeg', 'person101_virus_188.jpeg', 'person37_bacteria_186.jpeg', 'person57_bacteria_271.jpeg', 'person113_virus_215.jpeg', 'person23_bacteria_95.jpeg', 'person32_bacteria_165.jpeg', 'person28_bacteria_139.jpeg', 'person23_bacteria_106.jpeg', 'person124_virus_247.jpeg', 'person90_virus_170.jpeg', 'person161_virus_317.jpeg', 'person25_bacteria_121.jpeg', 'person255_bacteria_1175.jpeg', 'person88_virus_161.jpeg', 'person38_bacteria_194.jpeg', 'person77_bacteria_377.jpeg', 'person44_bacteria_218.jpeg', 'person145_virus_295.jpeg', 'person160_virus_316.jpeg', 'person33_bacteria_172.jpeg', 'person58_bacteria_275.jpeg', 'person71_bacteria_350.jpeg', 'person111_virus_212.jpeg', 'person124_virus_251.jpeg', 'person253_bacteria_1152.jpeg', 'person110_virus_205.jpeg', 'person49_bacteria_236.jpeg', 'person109_virus_203.jpeg', 'person26_bacteria_130.jpeg', 'person156_virus_308.jpeg', 'person95_virus_177.jpeg', 'person140_virus_284.jpeg', 'person55_bacteria_261.jpeg', 'person64_bacteria_312.jpeg', 'person59_bacteria_281.jpeg', 'person19_bacteria_61.jpeg', 'person94_virus_176.jpeg', 'person35_bacteria_180.jpeg', 'person264_bacteria_1232.jpeg', 'person257_bacteria_1194.jpeg', 'person123_virus_230.jpeg', 'person21_bacteria_72.jpeg', 'person23_bacteria_98.jpeg', 'person73_bacteria_360.jpeg', 'person23_bacteria_99.jpeg', 'person26_bacteria_126.jpeg', 'person264_bacteria_1233.jpeg', 'person26_bacteria_127.jpeg', 'person54_bacteria_257.jpeg', 'person59_bacteria_280.jpeg', 'person257_bacteria_1195.jpeg', 'person39_bacteria_198.jpeg', 'person35_bacteria_181.jpeg', 'person19_bacteria_60.jpeg', 'person21_bacteria_73.jpeg', 'person59_bacteria_279.jpeg', 'person35_bacteria_178.jpeg', 'person55_bacteria_260.jpeg', 'person255_virus_531.jpeg', 'person100_virus_184.jpeg', 'person26_bacteria_131.jpeg', 'person49_bacteria_237.jpeg', 'person124_virus_250.jpeg', 'person158_virus_312.jpeg', 'person253_bacteria_1153.jpeg', 'person4_bacteria_14.jpeg', 'person58_bacteria_274.jpeg', 'person33_bacteria_173.jpeg', 'person255_bacteria_1162.jpeg', 'person71_bacteria_351.jpeg', 'person56_bacteria_267.jpeg', 'person77_bacteria_376.jpeg', 'person30_bacteria_158.jpeg', 'person145_virus_294.jpeg', 'person38_bacteria_195.jpeg', 'person44_bacteria_219.jpeg', 'person71_bacteria_347.jpeg', 'person25_bacteria_120.jpeg', 'person124_virus_246.jpeg', 'person23_bacteria_107.jpeg', 'person66_bacteria_323.jpeg', 'person23_bacteria_94.jpeg', 'person87_virus_160.jpeg', 'person57_bacteria_270.jpeg', 'person51_bacteria_241.jpeg', 'person13_bacteria_50.jpeg', 'person257_bacteria_1199.jpeg', 'person37_bacteria_187.jpeg', 'person70_bacteria_346.jpeg', 'person264_bacteria_1229.jpeg', 'person25_bacteria_116.jpeg', 'person23_bacteria_82.jpeg', 'person46_bacteria_225.jpeg', 'person67_bacteria_334.jpeg', 'person40_bacteria_202.jpeg', 'person8_bacteria_37.jpeg', 'person258_bacteria_1210.jpeg', 'person45_bacteria_222.jpeg', 'person30_bacteria_154.jpeg', 'person256_virus_537.jpeg', 'person118_virus_224.jpeg', 'person259_virus_540.jpeg', 'person110_virus_208.jpeg', 'person75_bacteria_366.jpeg', 'person73_bacteria_357.jpeg', 'person58_bacteria_278.jpeg', 'person61_bacteria_295.jpeg', 'person43_bacteria_213.jpeg', 'person111_virus_209.jpeg', 'person31_bacteria_163.jpeg', 'person119_virus_225.jpeg', 'person33_bacteria_169.jpeg', 'person68_bacteria_337.jpeg', 'person62_bacteria_302.jpeg', 'person23_bacteria_100.jpeg', 'person28_bacteria_143.jpeg', 'person258_bacteria_1206.jpeg', 'person88_virus_167.jpeg', 'person66_bacteria_324.jpeg', 'person38_bacteria_192.jpeg', 'person30_bacteria_149.jpeg', 'person154_virus_305.jpeg', 'person61_bacteria_288.jpeg', 'person105_virus_192.jpeg', 'person12_bacteria_47.jpeg', 'person24_bacteria_110.jpeg', 'person58_bacteria_273.jpeg', 'person162_virus_321.jpeg', 'person33_bacteria_174.jpeg', 'person1_bacteria_2.jpeg', 'person255_bacteria_1165.jpeg', 'person10_bacteria_43.jpeg', 'person262_virus_544.jpeg', 'person253_bacteria_1154.jpeg', 'person5_bacteria_19.jpeg', 'person18_bacteria_57.jpeg', 'person265_virus_548.jpeg', 'person151_virus_302.jpeg', 'person23_bacteria_89.jpeg', 'person62_bacteria_299.jpeg', 'person60_bacteria_285.jpeg', 'person266_bacteria_1241.jpeg', 'person264_bacteria_1234.jpeg', 'person67_bacteria_329.jpeg', 'person22_bacteria_76.jpeg', 'person31_bacteria_164.jpeg', 'person108_virus_199.jpeg', 'person61_bacteria_292.jpeg', 'person135_virus_271.jpeg', 'person20_bacteria_64.jpeg', 'person30_bacteria_145.jpeg', 'person9_bacteria_41.jpeg', 'person30_bacteria_153.jpeg', 'person41_bacteria_208.jpeg', 'person27_bacteria_137.jpeg', 'person11_bacteria_45.jpeg', 'person67_bacteria_333.jpeg', 'person5_bacteria_15.jpeg', 'person40_bacteria_205.jpeg', 'person48_bacteria_231.jpeg', 'person106_virus_194.jpeg', 'person23_bacteria_85.jpeg', 'person17_bacteria_56.jpeg', 'person15_bacteria_52.jpeg', 'person64_bacteria_318.jpeg', 'person84_virus_157.jpeg', 'person51_bacteria_246.jpeg', 'person76_bacteria_370.jpeg', 'person124_virus_236.jpeg', 'person3_bacteria_10.jpeg', 'person70_bacteria_341.jpeg', 'person23_bacteria_93.jpeg', 'person124_virus_237.jpeg', 'person3_bacteria_11.jpeg', 'person23_bacteria_92.jpeg', 'person99_virus_183.jpeg', 'person259_bacteria_1219.jpeg', 'person76_bacteria_371.jpeg', 'person51_bacteria_247.jpeg', 'person64_bacteria_319.jpeg', 'person98_virus_182.jpeg', 'person112_virus_213.jpeg', 'person67_bacteria_332.jpeg', 'person41_bacteria_209.jpeg', 'person23_bacteria_84.jpeg', 'person48_bacteria_230.jpeg', 'person40_bacteria_204.jpeg', 'person135_virus_270.jpeg', 'person27_bacteria_136.jpeg', 'person9_bacteria_40.jpeg', 'person258_bacteria_1216.jpeg', 'person30_bacteria_152.jpeg', 'person261_bacteria_1225.jpeg', 'person265_bacteria_1236.jpeg', 'person61_bacteria_293.jpeg', 'person261_virus_543.jpeg', 'person22_bacteria_77.jpeg', 'person153_virus_304.jpeg', 'person266_bacteria_1237.jpeg', 'person29_bacteria_144.jpeg', 'person266_bacteria_1240.jpeg', 'person67_bacteria_328.jpeg', 'person74_bacteria_361.jpeg', 'person65_bacteria_322.jpeg', 'person257_bacteria_1193.jpeg', 'person55_bacteria_266.jpeg', 'person62_bacteria_298.jpeg', 'person83_virus_156.jpeg', 'person23_bacteria_88.jpeg', 'person262_virus_545.jpeg', 'person162_virus_320.jpeg', 'person33_bacteria_175.jpeg', 'person138_virus_282.jpeg', 'person263_bacteria_1227.jpeg', 'person253_bacteria_1155.jpeg', 'person58_bacteria_272.jpeg', 'person24_bacteria_111.jpeg', 'person12_bacteria_46.jpeg', 'person133_virus_267.jpeg', 'person20_bacteria_69.jpeg', 'person139_virus_283.jpeg', 'person61_bacteria_289.jpeg', 'person38_bacteria_193.jpeg', 'person30_bacteria_148.jpeg', 'person105_virus_193.jpeg', 'person124_virus_240.jpeg', 'person132_virus_266.jpeg', 'person68_bacteria_336.jpeg', 'person66_bacteria_325.jpeg', 'person23_bacteria_101.jpeg', 'person102_virus_189.jpeg', 'person142_virus_288.jpeg', 'person88_virus_166.jpeg', 'person80_virus_150.jpeg', 'person81_virus_153.jpeg', 'person82_virus_154.jpeg', 'person82_virus_155.jpeg', 'person114_virus_217.jpeg', 'person115_virus_219.jpeg', 'person117_virus_223.jpeg', 'person120_virus_226.jpeg', 'person124_virus_231.jpeg', 'person128_virus_261.jpeg', 'person134_virus_268.jpeg', 'person140_virus_285.jpeg', 'person143_virus_289.jpeg', 'person148_virus_298.jpeg', 'person149_virus_299.jpeg', 'person151_virus_301.jpeg', 'person152_virus_303.jpeg']\n",
            "500\n",
            "['IM-0656-0001.jpeg', 'IM-0655-0001.jpeg', 'IM-0652-0001.jpeg', 'IM-0654-0001.jpeg', 'IM-0651-0001.jpeg', 'IM-0652-0001-0002.jpeg', 'IM-0650-0001-0002.jpeg', 'IM-0648-0001.jpeg', 'IM-0650-0001.jpeg', 'IM-0650-0001-0001.jpeg', 'IM-0647-0001.jpeg', 'IM-0649-0001.jpeg', 'IM-0644-0001.jpeg', 'IM-0645-0001.jpeg', 'IM-0644-0001-0001.jpeg', 'IM-0644-0001-0002.jpeg', 'IM-0646-0001.jpeg', 'IM-0643-0001.jpeg', 'IM-0641-0001.jpeg', 'IM-0642-0001.jpeg', 'IM-0640-0001.jpeg', 'IM-0636-0001.jpeg', 'IM-0637-0001.jpeg', 'IM-0640-0001-0002.jpeg', 'IM-0640-0001-0001.jpeg', 'IM-0632-0001.jpeg', 'IM-0634-0001.jpeg', 'IM-0633-0001.jpeg', 'IM-0631-0001.jpeg', 'IM-0631-0001-0002.jpeg', 'IM-0635-0001.jpeg', 'IM-0630-0001.jpeg', 'IM-0631-0001-0001.jpeg', 'IM-0629-0001.jpeg', 'IM-0629-0001-0003.jpeg', 'IM-0629-0001-0002.jpeg', 'IM-0629-0001-0001.jpeg', 'IM-0628-0001.jpeg', 'IM-0625-0001.jpeg', 'IM-0626-0001-0001.jpeg', 'IM-0627-0001.jpeg', 'IM-0626-0001-0002.jpeg', 'IM-0622-0001-0002.jpeg', 'IM-0624-0001-0002.jpeg', 'IM-0624-0001.jpeg', 'IM-0622-0001-0001.jpeg', 'IM-0622-0001.jpeg', 'IM-0623-0001.jpeg', 'IM-0620-0001-0002.jpeg', 'IM-0620-0001-0001.jpeg', 'IM-0621-0001.jpeg', 'IM-0620-0001.jpeg', 'IM-0618-0001.jpeg', 'IM-0618-0001-0002.jpeg', 'IM-0619-0001.jpeg', 'IM-0616-0001.jpeg', 'IM-0618-0001-0001.jpeg', 'IM-0615-0001.jpeg', 'IM-0614-0001.jpeg', 'IM-0613-0001.jpeg', 'IM-0617-0001.jpeg', 'IM-0612-0001.jpeg', 'IM-0612-0001-0001.jpeg', 'IM-0612-0001-0002.jpeg', 'IM-0609-0001.jpeg', 'IM-0608-0001.jpeg', 'IM-0608-0001-0002.jpeg', 'IM-0607-0001.jpeg', 'IM-0606-0001.jpeg', 'IM-0608-0001-0001.jpeg', 'IM-0600-0001.jpeg', 'IM-0605-0001.jpeg', 'IM-0601-0001.jpeg', 'IM-0602-0001.jpeg', 'IM-0604-0001.jpeg', 'IM-0595-0001.jpeg', 'IM-0599-0001.jpeg', 'IM-0598-0001.jpeg', 'IM-0596-0001.jpeg', 'IM-0590-0001.jpeg', 'IM-0593-0001.jpeg', 'IM-0588-0001.jpeg', 'IM-0591-0001.jpeg', 'IM-0592-0001.jpeg', 'IM-0584-0001.jpeg', 'IM-0582-0001.jpeg', 'IM-0583-0001.jpeg', 'IM-0586-0001.jpeg', 'IM-0578-0001.jpeg', 'IM-0581-0001.jpeg', 'IM-0577-0001.jpeg', 'IM-0580-0001.jpeg', 'IM-0579-0001.jpeg', 'IM-0575-0001.jpeg', 'IM-0571-0001.jpeg', 'IM-0574-0001.jpeg', 'IM-0570-0001.jpeg', 'IM-0569-0001.jpeg', 'IM-0568-0001.jpeg', 'IM-0566-0001.jpeg', 'IM-0564-0001.jpeg', 'IM-0562-0001.jpeg', 'IM-0563-0001.jpeg', 'IM-0565-0001.jpeg', 'IM-0560-0001.jpeg', 'IM-0557-0001.jpeg', 'IM-0556-0001.jpeg', 'IM-0561-0001.jpeg', 'IM-0559-0001.jpeg', 'IM-0554-0001.jpeg', 'IM-0555-0001-0001.jpeg', 'IM-0555-0001.jpeg', 'IM-0555-0001-0002.jpeg', 'IM-0553-0001.jpeg', 'IM-0553-0001-0002.jpeg', 'IM-0553-0001-0003.jpeg', 'IM-0553-0001-0001.jpeg', 'IM-0551-0001-0002.jpeg', 'IM-0551-0001.jpeg', 'IM-0551-0001-0001.jpeg', 'IM-0552-0001.jpeg', 'IM-0549-0001.jpeg', 'IM-0549-0001-0002.jpeg', 'IM-0548-0001.jpeg', 'IM-0547-0001.jpeg', 'IM-0549-0001-0001.jpeg', 'IM-0545-0001.jpeg', 'IM-0546-0001.jpeg', 'IM-0545-0001-0001.jpeg', 'IM-0545-0001-0002.jpeg', 'IM-0542-0001.jpeg', 'IM-0543-0001.jpeg', 'IM-0543-0001-0002.jpeg', 'IM-0544-0001.jpeg', 'IM-0539-0001.jpeg', 'IM-0539-0001-0002.jpeg', 'IM-0540-0001.jpeg', 'IM-0541-0001.jpeg', 'IM-0535-0001.jpeg', 'IM-0538-0001.jpeg', 'IM-0537-0001.jpeg', 'IM-0539-0001-0001.jpeg', 'IM-0536-0001.jpeg', 'IM-0533-0001.jpeg', 'IM-0533-0001-0002.jpeg', 'IM-0534-0001.jpeg', 'IM-0533-0001-0001.jpeg', 'IM-0531-0001.jpeg', 'IM-0532-0001.jpeg', 'IM-0531-0001-0001.jpeg', 'IM-0529-0001.jpeg', 'IM-0530-0001.jpeg', 'IM-0527-0001.jpeg', 'IM-0525-0001.jpeg', 'IM-0528-0001.jpeg', 'IM-0526-0001.jpeg', 'IM-0523-0001-0003.jpeg', 'IM-0523-0001.jpeg', 'IM-0525-0001-0001.jpeg', 'IM-0524-0001.jpeg', 'IM-0525-0001-0002.jpeg', 'IM-0520-0001.jpeg', 'IM-0522-0001.jpeg', 'IM-0523-0001-0001.jpeg', 'IM-0523-0001-0002.jpeg', 'IM-0519-0001-0002.jpeg', 'IM-0519-0001-0001.jpeg', 'IM-0521-0001.jpeg', 'IM-0519-0001.jpeg', 'IM-0515-0001.jpeg', 'IM-0517-0001-0001.jpeg', 'IM-0517-0001.jpeg', 'IM-0516-0001.jpeg', 'IM-0511-0001.jpeg', 'IM-0514-0001.jpeg', 'IM-0512-0001.jpeg', 'IM-0513-0001.jpeg', 'IM-0510-0001.jpeg', 'IM-0509-0001-0001.jpeg', 'IM-0511-0001-0002.jpeg', 'IM-0509-0001-0002.jpeg', 'IM-0511-0001-0001.jpeg', 'IM-0509-0001.jpeg', 'IM-0508-0001.jpeg', 'IM-0505-0001.jpeg', 'IM-0506-0001.jpeg', 'IM-0507-0001.jpeg', 'IM-0505-0001-0002.jpeg', 'IM-0503-0001.jpeg', 'IM-0505-0001-0001.jpeg', 'IM-0504-0001.jpeg', 'IM-0500-0001.jpeg', 'IM-0501-0001.jpeg', 'IM-0501-0001-0001.jpeg', 'IM-0502-0001.jpeg', 'IM-0501-0001-0002.jpeg', 'IM-0497-0001-0002.jpeg', 'IM-0499-0001-0001.jpeg', 'IM-0499-0001.jpeg', 'IM-0497-0001.jpeg', 'IM-0499-0001-0002.jpeg', 'IM-0496-0001.jpeg', 'IM-0497-0001-0001.jpeg', 'IM-0495-0001.jpeg', 'IM-0494-0001.jpeg', 'IM-0493-0001.jpeg', 'IM-0491-0001.jpeg', 'IM-0492-0001.jpeg', 'IM-0491-0001-0002.jpeg', 'IM-0490-0001.jpeg', 'IM-0491-0001-0001.jpeg', 'IM-0488-0001.jpeg', 'IM-0489-0001.jpeg', 'IM-0487-0001.jpeg', 'IM-0483-0001.jpeg', 'IM-0484-0001.jpeg', 'IM-0486-0001.jpeg', 'IM-0485-0001.jpeg', 'IM-0480-0001.jpeg', 'IM-0482-0001.jpeg', 'IM-0479-0001.jpeg', 'IM-0481-0001.jpeg', 'IM-0475-0001.jpeg', 'IM-0476-0001.jpeg', 'IM-0474-0001.jpeg', 'IM-0478-0001.jpeg', 'IM-0477-0001.jpeg', 'IM-0473-0001.jpeg', 'IM-0471-0001.jpeg', 'IM-0469-0001.jpeg', 'IM-0472-0001.jpeg', 'IM-0467-0001-0001.jpeg', 'IM-0466-0001.jpeg', 'IM-0467-0001-0002.jpeg', 'IM-0467-0001.jpeg', 'IM-0461-0001.jpeg', 'IM-0464-0001.jpeg', 'IM-0463-0001.jpeg', 'IM-0465-0001.jpeg', 'IM-0458-0001.jpeg', 'IM-0460-0001.jpeg', 'IM-0459-0001.jpeg', 'IM-0457-0001.jpeg', 'IM-0455-0001.jpeg', 'IM-0453-0001.jpeg', 'IM-0453-0001-0002.jpeg', 'IM-0456-0001.jpeg', 'IM-0449-0001.jpeg', 'IM-0450-0001.jpeg', 'IM-0448-0001.jpeg', 'IM-0451-0001.jpeg', 'IM-0452-0001.jpeg', 'IM-0447-0001.jpeg', 'IM-0444-0001.jpeg', 'IM-0446-0001.jpeg', 'IM-0445-0001.jpeg', 'IM-0442-0001.jpeg', 'IM-0440-0001.jpeg', 'IM-0441-0001.jpeg', 'IM-0439-0001.jpeg', 'IM-0439-0001-0001.jpeg', 'IM-0437-0001-0002.jpeg', 'IM-0439-0001-0002.jpeg', 'IM-0438-0001.jpeg', 'IM-0437-0001.jpeg', 'IM-0437-0001-0001.jpeg', 'IM-0435-0001-0001.jpeg', 'IM-0435-0001.jpeg', 'IM-0434-0001.jpeg', 'IM-0431-0001.jpeg', 'IM-0432-0001.jpeg', 'IM-0430-0001.jpeg', 'IM-0433-0001.jpeg', 'IM-0429-0001-0001.jpeg', 'IM-0429-0001.jpeg', 'IM-0429-0001-0002.jpeg', 'IM-0428-0001.jpeg', 'IM-0421-0001.jpeg', 'IM-0423-0001.jpeg', 'IM-0427-0001.jpeg', 'IM-0424-0001.jpeg', 'IM-0420-0001.jpeg', 'IM-0425-0001.jpeg', 'IM-0416-0001.jpeg', 'IM-0414-0001.jpeg', 'IM-0419-0001.jpeg', 'IM-0417-0001.jpeg', 'IM-0409-0001.jpeg', 'IM-0410-0001.jpeg', 'IM-0413-0001.jpeg', 'IM-0411-0001.jpeg', 'IM-0405-0001.jpeg', 'IM-0403-0001.jpeg', 'IM-0404-0001.jpeg', 'IM-0408-0001.jpeg', 'IM-0395-0001.jpeg', 'IM-0400-0001.jpeg', 'IM-0399-0001.jpeg', 'IM-0401-0001.jpeg', 'IM-0392-0001.jpeg', 'IM-0389-0001.jpeg', 'IM-0394-0001.jpeg', 'IM-0391-0001.jpeg', 'IM-0393-0001.jpeg', 'IM-0388-0001.jpeg', 'IM-0386-0001.jpeg', 'IM-0387-0001.jpeg', 'IM-0385-0001.jpeg', 'IM-0381-0001.jpeg', 'IM-0382-0001.jpeg', 'IM-0384-0001.jpeg', 'IM-0383-0001.jpeg', 'IM-0377-0001.jpeg', 'IM-0375-0001.jpeg', 'IM-0374-0001.jpeg', 'IM-0379-0001.jpeg', 'IM-0370-0001.jpeg', 'IM-0368-0001.jpeg', 'IM-0372-0001.jpeg', 'IM-0371-0001.jpeg', 'IM-0369-0001.jpeg', 'IM-0367-0001.jpeg', 'IM-0365-0001.jpeg', 'IM-0364-0001.jpeg', 'IM-0362-0001.jpeg', 'IM-0363-0001.jpeg', 'IM-0361-0001.jpeg', 'IM-0357-0001.jpeg', 'IM-0359-0001.jpeg', 'IM-0356-0001.jpeg', 'IM-0358-0001.jpeg', 'IM-0355-0001.jpeg', 'IM-0353-0001.jpeg', 'IM-0354-0001.jpeg', 'IM-0351-0001.jpeg', 'IM-0347-0001.jpeg', 'IM-0350-0001.jpeg', 'IM-0349-0001.jpeg', 'IM-0348-0001.jpeg', 'IM-0341-0001.jpeg', 'IM-0346-0001.jpeg', 'IM-0345-0001.jpeg', 'IM-0343-0001.jpeg', 'IM-0338-0001.jpeg', 'IM-0339-0001.jpeg', 'IM-0333-0001.jpeg', 'IM-0340-0001.jpeg', 'IM-0337-0001.jpeg', 'IM-0335-0001.jpeg', 'IM-0331-0001.jpeg', 'IM-0329-0001.jpeg', 'IM-0330-0001.jpeg', 'IM-0332-0001.jpeg', 'IM-0324-0001.jpeg', 'IM-0327-0001.jpeg', 'IM-0326-0001.jpeg', 'IM-0325-0001.jpeg', 'IM-0319-0001.jpeg', 'IM-0323-0001.jpeg', 'IM-0320-0001.jpeg', 'IM-0318-0001.jpeg', 'IM-0316-0001.jpeg', 'IM-0312-0001.jpeg', 'IM-0317-0001.jpeg', 'IM-0315-0001.jpeg', 'IM-0314-0001.jpeg', 'IM-0313-0001.jpeg', 'IM-0309-0001.jpeg', 'IM-0311-0001.jpeg', 'IM-0307-0001.jpeg', 'IM-0308-0001.jpeg', 'IM-0306-0001.jpeg', 'IM-0305-0001.jpeg', 'IM-0302-0001.jpeg', 'IM-0304-0001.jpeg', 'IM-0303-0001.jpeg', 'IM-0301-0001.jpeg', 'IM-0300-0001.jpeg', 'IM-0298-0001.jpeg', 'IM-0299-0001.jpeg', 'IM-0295-0001.jpeg', 'IM-0293-0001.jpeg', 'IM-0294-0001.jpeg', 'IM-0297-0001.jpeg', 'IM-0288-0001.jpeg', 'IM-0290-0001.jpeg', 'IM-0291-0001.jpeg', 'IM-0292-0001.jpeg', 'IM-0289-0001.jpeg', 'IM-0282-0001.jpeg', 'IM-0286-0001.jpeg', 'IM-0283-0001.jpeg', 'IM-0285-0001.jpeg', 'IM-0280-0001.jpeg', 'IM-0277-0001.jpeg', 'IM-0279-0001.jpeg', 'IM-0278-0001.jpeg', 'IM-0275-0001.jpeg', 'IM-0274-0001.jpeg', 'IM-0270-0001.jpeg', 'IM-0276-0001.jpeg', 'IM-0273-0001.jpeg', 'IM-0272-0001.jpeg', 'IM-0268-0001.jpeg', 'IM-0269-0001.jpeg', 'IM-0265-0001.jpeg', 'IM-0266-0001.jpeg', 'IM-0257-0001.jpeg', 'IM-0262-0001.jpeg', 'IM-0264-0001.jpeg', 'IM-0261-0001.jpeg', 'IM-0253-0001.jpeg', 'IM-0250-0001.jpeg', 'IM-0255-0001.jpeg', 'IM-0251-0001.jpeg', 'IM-0256-0001.jpeg', 'IM-0249-0001.jpeg', 'IM-0244-0001.jpeg', 'IM-0245-0001.jpeg', 'IM-0248-0001.jpeg', 'IM-0242-0001.jpeg', 'IM-0241-0001.jpeg', 'IM-0240-0001.jpeg', 'IM-0243-0001.jpeg', 'IM-0238-0001.jpeg', 'IM-0237-0001.jpeg', 'IM-0239-0001.jpeg', 'IM-0235-0001.jpeg', 'IM-0234-0001.jpeg', 'IM-0236-0001.jpeg', 'IM-0228-0001.jpeg', 'IM-0231-0001.jpeg', 'IM-0229-0001.jpeg', 'IM-0230-0001.jpeg', 'IM-0226-0001.jpeg', 'IM-0227-0001.jpeg', 'IM-0225-0001.jpeg', 'IM-0224-0001.jpeg', 'IM-0223-0001.jpeg', 'IM-0222-0001.jpeg', 'IM-0220-0001.jpeg', 'IM-0221-0001.jpeg', 'IM-0215-0001.jpeg', 'IM-0217-0001.jpeg', 'IM-0219-0001.jpeg', 'IM-0216-0001.jpeg', 'IM-0218-0001.jpeg', 'IM-0213-0001.jpeg', 'IM-0214-0001.jpeg', 'IM-0209-0001.jpeg', 'IM-0210-0001.jpeg', 'IM-0211-0001.jpeg', 'IM-0206-0001.jpeg', 'IM-0203-0001.jpeg', 'IM-0205-0001.jpeg', 'IM-0201-0001.jpeg', 'IM-0199-0001.jpeg', 'IM-0207-0001.jpeg', 'IM-0193-0001.jpeg', 'IM-0189-0001.jpeg', 'IM-0195-0001.jpeg', 'IM-0187-0001.jpeg', 'IM-0185-0001.jpeg', 'IM-0182-0001.jpeg', 'IM-0191-0001.jpeg', 'IM-0183-0001.jpeg', 'IM-0177-0001.jpeg', 'IM-0178-0001.jpeg', 'IM-0180-0001.jpeg', 'IM-0172-0001.jpeg', 'IM-0168-0001.jpeg', 'IM-0170-0001.jpeg', 'IM-0176-0001.jpeg', 'IM-0160-0001.jpeg', 'IM-0158-0001.jpeg', 'IM-0162-0001.jpeg', 'IM-0164-0001.jpeg', 'IM-0166-0001.jpeg', 'IM-0151-0001.jpeg', 'IM-0152-0001.jpeg', 'IM-0156-0001.jpeg', 'IM-0154-0001.jpeg', 'IM-0149-0001.jpeg', 'IM-0141-0001.jpeg', 'IM-0143-0001.jpeg', 'IM-0147-0001.jpeg', 'IM-0145-0001.jpeg', 'IM-0133-0001.jpeg', 'IM-0137-0001.jpeg', 'IM-0135-0001.jpeg', 'IM-0140-0001.jpeg', 'IM-0128-0001.jpeg', 'IM-0131-0001.jpeg', 'IM-0129-0001.jpeg', 'IM-0127-0001.jpeg', 'IM-0125-0001.jpeg', 'IM-0119-0001.jpeg', 'IM-0117-0001.jpeg', 'IM-0122-0001.jpeg', 'IM-0115-0001.jpeg']\n",
            "500\n"
          ],
          "name": "stdout"
        }
      ]
    },
    {
      "cell_type": "code",
      "metadata": {
        "id": "JloKCsfgQgaC",
        "colab_type": "code",
        "outputId": "897bad0a-70bf-41a0-91fc-fa1f89e7b71e",
        "colab": {
          "base_uri": "https://localhost:8080/",
          "height": 938
        }
      },
      "source": [
        "#Tahap ini hanya utk Visualisasi Citra Penyakit Pneumonia\n",
        "#library matplotlib, hanya u/ visualisasi\n",
        "\n",
        "\n",
        "plt.figure(figsize = (12,12)) #mengatur skala citra yg ditmpilkan\n",
        "for i in range(5):            #melakukan perulangan sbnyk 5X (dgn nilai awal i=0)\n",
        "    plt.subplot(1, 5, i+1)    #plot letak citra, librry cv2\n",
        "    img = cv2.imread('/content/drive/My Drive/Dataset/DATA5050/Pneumonia' + \"/\" + pneumonia_data[i])\n",
        "    plt.imshow(img,cmap='gray')           #plot citra sesuai ketmpt yg disediakan baris ke2\n",
        "    plt.title('infected : 1') #pmbrian title, 1 itu memberikan nilai actual bahwa terinfeksi itu = 1\n",
        "    plt.tight_layout()        #tampilannya disesuaikan dgn lebar layar\n",
        "\n",
        "plt.figure(figsize = (12,12))\n",
        "for i in range(5):\n",
        "    plt.subplot(1, 5, i+1)\n",
        "    img = cv2.imread('/content/drive/My Drive/Dataset/DATA5050/Pneumonia' + \"/\" + pneumonia_data[i])\n",
        "    gray = cv2.cvtColor(img, cv2.COLOR_BGR2GRAY)\n",
        "    img = cv2.GaussianBlur(gray, (3,3),0)\n",
        "    edges = cv2.Sobel(img, cv2.CV_64F,1,0, ksize=0)\n",
        "    plt.imshow(edges,cmap='gray')\n",
        "    plt.title('Seg. Sobel : x')\n",
        "    plt.tight_layout()\n",
        "\n",
        "plt.figure(figsize= (12,12))\n",
        "for i in range (5):\n",
        "  plt.subplot(1, 5, i+1)\n",
        "  img = cv2.imread ('/content/drive/My Drive/Dataset/DATA5050/Pneumonia' + \"/\" +pneumonia_data[i])\n",
        "  edg\n",
        "\n",
        "\n",
        "#Tahap Visualisasi Citra Tidak Pneumonia\n",
        "\n",
        "plt.figure(figsize = (12,12))\n",
        "for i in range(5):\n",
        "    plt.subplot(1, 5, i+1)\n",
        "    img = cv2.imread('/content/drive/My Drive/Dataset/DATA5050/Tidak Pneumonia' + \"/\" + tidakPneumonia_data[i])\n",
        "    plt.imshow(img)\n",
        "    plt.title('uninfected : 0')\n",
        "    plt.tight_layout()\n",
        "\n",
        "plt.figure(figsize = (12,12))\n",
        "for i in range(5):\n",
        "    plt.subplot(1, 5, i+1)\n",
        "    img = cv2.imread('/content/drive/My Drive/Dataset/DATA5050/Tidak Pneumonia' + \"/\" + tidakPneumonia_data[i])\n",
        "    edges = cv2.Canny(img, 80, 30)\n",
        "    plt.imshow(edges,cmap='gray')\n",
        "    plt.title('Seg. Canny uninfected : 0')\n",
        "    plt.tight_layout()\n",
        "plt.show()"
      ],
      "execution_count": 12,
      "outputs": [
        {
          "output_type": "error",
          "ename": "NameError",
          "evalue": "ignored",
          "traceback": [
            "\u001b[0;31m---------------------------------------------------------------------------\u001b[0m",
            "\u001b[0;31mNameError\u001b[0m                                 Traceback (most recent call last)",
            "\u001b[0;32m<ipython-input-12-8c65b3a9b693>\u001b[0m in \u001b[0;36m<module>\u001b[0;34m()\u001b[0m\n\u001b[1;32m      4\u001b[0m \u001b[0;32mfor\u001b[0m \u001b[0mi\u001b[0m \u001b[0;32min\u001b[0m \u001b[0mrange\u001b[0m\u001b[0;34m(\u001b[0m\u001b[0;36m5\u001b[0m\u001b[0;34m)\u001b[0m\u001b[0;34m:\u001b[0m            \u001b[0;31m#melakukan perulangan sbnyk 5X (dgn nilai awal i=0)\u001b[0m\u001b[0;34m\u001b[0m\u001b[0;34m\u001b[0m\u001b[0m\n\u001b[1;32m      5\u001b[0m     \u001b[0mplt\u001b[0m\u001b[0;34m.\u001b[0m\u001b[0msubplot\u001b[0m\u001b[0;34m(\u001b[0m\u001b[0;36m1\u001b[0m\u001b[0;34m,\u001b[0m \u001b[0;36m5\u001b[0m\u001b[0;34m,\u001b[0m \u001b[0mi\u001b[0m\u001b[0;34m+\u001b[0m\u001b[0;36m1\u001b[0m\u001b[0;34m)\u001b[0m    \u001b[0;31m#plot letak citra, librry cv2\u001b[0m\u001b[0;34m\u001b[0m\u001b[0;34m\u001b[0m\u001b[0m\n\u001b[0;32m----> 6\u001b[0;31m     \u001b[0mimg\u001b[0m \u001b[0;34m=\u001b[0m \u001b[0mcv2\u001b[0m\u001b[0;34m.\u001b[0m\u001b[0mimread\u001b[0m\u001b[0;34m(\u001b[0m\u001b[0;34m'/content/drive/My Drive/Dataset/DATA5050/cell_images/Terinfeksi'\u001b[0m \u001b[0;34m+\u001b[0m \u001b[0;34m\"/\"\u001b[0m \u001b[0;34m+\u001b[0m \u001b[0mterinfeksi_data\u001b[0m\u001b[0;34m[\u001b[0m\u001b[0mi\u001b[0m\u001b[0;34m]\u001b[0m\u001b[0;34m)\u001b[0m\u001b[0;34m\u001b[0m\u001b[0;34m\u001b[0m\u001b[0m\n\u001b[0m\u001b[1;32m      7\u001b[0m     \u001b[0mplt\u001b[0m\u001b[0;34m.\u001b[0m\u001b[0mimshow\u001b[0m\u001b[0;34m(\u001b[0m\u001b[0mimg\u001b[0m\u001b[0;34m)\u001b[0m           \u001b[0;31m#plot citra sesuai ketmpt yg disediakan baris ke2\u001b[0m\u001b[0;34m\u001b[0m\u001b[0;34m\u001b[0m\u001b[0m\n\u001b[1;32m      8\u001b[0m     \u001b[0mplt\u001b[0m\u001b[0;34m.\u001b[0m\u001b[0mtitle\u001b[0m\u001b[0;34m(\u001b[0m\u001b[0;34m'infected : 1'\u001b[0m\u001b[0;34m)\u001b[0m \u001b[0;31m#pmbrian title, 1 itu memberikan nilai actual bahwa terinfeksi itu = 1\u001b[0m\u001b[0;34m\u001b[0m\u001b[0;34m\u001b[0m\u001b[0m\n",
            "\u001b[0;31mNameError\u001b[0m: name 'terinfeksi_data' is not defined"
          ]
        },
        {
          "output_type": "display_data",
          "data": {
            "image/png": "[encoded data removed]",
            "text/plain": [
              "<Figure size 864x864 with 1 Axes>"
            ]
          },
          "metadata": {
            "tags": [],
            "needs_background": "light"
          }
        }
      ]
    },
    {
      "cell_type": "code",
      "metadata": {
        "id": "FiIYHPYqlXEx",
        "colab_type": "code",
        "colab": {}
      },
      "source": [
        "#SEGMENTASI CANNY DAN EKSTRAKSI HUMOMENT\n",
        "\n",
        "x = np.array([['H1','H2','H3','H4','H5','H6','H7','Actual']])    #deklarasi var (x), isi datanya nnti sebagai header file .csv\n",
        "\n",
        "#Proses Citra Malaria Terinfeksi\n",
        "for i in range(len(terinfeksi_data)):\n",
        "    img = cv2.imread('/content/drive/My Drive/Dataset/DATA5050/cell_images/Terinfeksi' + \"/\" + terinfeksi_data[i])\n",
        "    edges = cv2.Canny(img,80,30)\n",
        "    a = cv2.HuMoments(cv2.moments(edges)).flatten()\n",
        "    a = np.append(a,1)\n",
        "    x = np.vstack((x,a))\n",
        "\n",
        "#Proses Citra Malaria TidakTerinfeksi\n",
        "for i in range(len(tidakTerinfeksi_data)):\n",
        "    img = cv2.imread('/content/drive/My Drive/Dataset/DATA5050/cell_images/TidakTerinfeksi' + \"/\" + tidakTerinfeksi_data[i])\n",
        "    edges = cv2.Canny(img,80,30)\n",
        "    a = cv2.HuMoments(cv2.moments(edges)).flatten()\n",
        "    a = np.append(a,0)\n",
        "    x = np.vstack((x,a))"
      ],
      "execution_count": 0,
      "outputs": []
    },
    {
      "cell_type": "code",
      "metadata": {
        "id": "G2eFtDw8n0ng",
        "colab_type": "code",
        "colab": {}
      },
      "source": [
        "#EXPORT to CSV\n",
        "np.savetxt(\"/content/drive/My Drive/Dataset/DatasetMalaria5050.csv\", x, fmt='%s',delimiter=',' )"
      ],
      "execution_count": 0,
      "outputs": []
    },
    {
      "cell_type": "code",
      "metadata": {
        "id": "WuFEfdbcn_v9",
        "colab_type": "code",
        "outputId": "1e12f525-7886-4dd8-ffae-ea5b27f753f1",
        "colab": {
          "base_uri": "https://localhost:8080/",
          "height": 284
        }
      },
      "source": [
        "#LOAD CSV DATASET\n",
        "\n",
        "dataset = pd.read_csv('/content/drive/My Drive/Dataset/DatasetMalaria5050.csv')\n",
        "print (len(dataset))\n",
        "print (dataset)"
      ],
      "execution_count": 0,
      "outputs": [
        {
          "output_type": "stream",
          "text": [
            "1000\n",
            "           H1            H2            H3  ...            H6            H7  Actual\n",
            "0    0.023395  1.397257e-05  4.961150e-08  ...  2.611034e-09  1.707388e-13     1.0\n",
            "1    0.013967  4.756363e-06  1.822945e-08  ...  1.820996e-10  3.139236e-15     1.0\n",
            "2    0.013096  3.963340e-06  5.858002e-08  ...  7.930139e-11 -9.146609e-16     1.0\n",
            "3    0.019049  5.215492e-05  7.746225e-08  ...  1.265208e-09 -1.202414e-14     1.0\n",
            "4    0.016204  8.703406e-07  4.471644e-07  ...  1.699768e-10 -3.232466e-14     1.0\n",
            "..        ...           ...           ...  ...           ...           ...     ...\n",
            "995  0.020236  3.033461e-05  8.205821e-07  ...  2.039957e-10 -6.929154e-15     0.0\n",
            "996  0.016468  2.206734e-06  5.677155e-09  ... -4.457857e-11 -2.384089e-16     0.0\n",
            "997  0.015833  2.184595e-05  1.025667e-07  ...  2.004346e-11 -1.120356e-16     0.0\n",
            "998  0.017108  1.190947e-05  2.610560e-08  ...  9.565258e-11 -3.932178e-16     0.0\n",
            "999  0.016640  8.068693e-06  2.609739e-09  ...  8.017982e-11  1.235930e-15     0.0\n",
            "\n",
            "[1000 rows x 8 columns]\n"
          ],
          "name": "stdout"
        }
      ]
    },
    {
      "cell_type": "code",
      "metadata": {
        "id": "6uObme2Jx0_S",
        "colab_type": "code",
        "outputId": "7a8528c8-7cad-46d4-8577-f993cf29d6fa",
        "colab": {
          "base_uri": "https://localhost:8080/",
          "height": 488
        }
      },
      "source": [
        "#split target and attribute (membagi data)\n",
        "x = dataset.iloc[:, 0:7] #mulai dr colmn index ke0, sbnyk 7 kolom(H1-H7) msuk ke var (X)\n",
        "y = dataset.iloc[:, 7] #hny kolom index ke7 yg msuk ke var (Y)\n",
        "\n",
        "\n",
        "#split train n test dataset\n",
        "x_train, x_test, y_train, y_test = train_test_split(x,y, random_state=2, test_size=0.1)\n",
        "\n",
        "print(len(x_train))\n",
        "print(len(x_test))\n",
        "print(len(y_train))\n",
        "print(len(y_test))\n",
        "\n",
        "print(len(dataset))\n",
        "x"
      ],
      "execution_count": 0,
      "outputs": [
        {
          "output_type": "stream",
          "text": [
            "900\n",
            "100\n",
            "900\n",
            "100\n",
            "1000\n"
          ],
          "name": "stdout"
        },
        {
          "output_type": "execute_result",
          "data": {
            "text/html": [
              "<div>\n",
              "<style scoped>\n",
              "    .dataframe tbody tr th:only-of-type {\n",
              "        vertical-align: middle;\n",
              "    }\n",
              "\n",
              "    .dataframe tbody tr th {\n",
              "        vertical-align: top;\n",
              "    }\n",
              "\n",
              "    .dataframe thead th {\n",
              "        text-align: right;\n",
              "    }\n",
              "</style>\n",
              "<table border=\"1\" class=\"dataframe\">\n",
              "  <thead>\n",
              "    <tr style=\"text-align: right;\">\n",
              "      <th></th>\n",
              "      <th>H1</th>\n",
              "      <th>H2</th>\n",
              "      <th>H3</th>\n",
              "      <th>H4</th>\n",
              "      <th>H5</th>\n",
              "      <th>H6</th>\n",
              "      <th>H7</th>\n",
              "    </tr>\n",
              "  </thead>\n",
              "  <tbody>\n",
              "    <tr>\n",
              "      <th>0</th>\n",
              "      <td>0.023395</td>\n",
              "      <td>1.397257e-05</td>\n",
              "      <td>4.961150e-08</td>\n",
              "      <td>9.735474e-07</td>\n",
              "      <td>1.289415e-13</td>\n",
              "      <td>2.611034e-09</td>\n",
              "      <td>1.707388e-13</td>\n",
              "    </tr>\n",
              "    <tr>\n",
              "      <th>1</th>\n",
              "      <td>0.013967</td>\n",
              "      <td>4.756363e-06</td>\n",
              "      <td>1.822945e-08</td>\n",
              "      <td>8.390509e-08</td>\n",
              "      <td>9.556587e-16</td>\n",
              "      <td>1.820996e-10</td>\n",
              "      <td>3.139236e-15</td>\n",
              "    </tr>\n",
              "    <tr>\n",
              "      <th>2</th>\n",
              "      <td>0.013096</td>\n",
              "      <td>3.963340e-06</td>\n",
              "      <td>5.858002e-08</td>\n",
              "      <td>3.987961e-08</td>\n",
              "      <td>1.696693e-15</td>\n",
              "      <td>7.930139e-11</td>\n",
              "      <td>-9.146609e-16</td>\n",
              "    </tr>\n",
              "    <tr>\n",
              "      <th>3</th>\n",
              "      <td>0.019049</td>\n",
              "      <td>5.215492e-05</td>\n",
              "      <td>7.746225e-08</td>\n",
              "      <td>2.312307e-07</td>\n",
              "      <td>-2.851514e-14</td>\n",
              "      <td>1.265208e-09</td>\n",
              "      <td>-1.202414e-14</td>\n",
              "    </tr>\n",
              "    <tr>\n",
              "      <th>4</th>\n",
              "      <td>0.016204</td>\n",
              "      <td>8.703406e-07</td>\n",
              "      <td>4.471644e-07</td>\n",
              "      <td>2.933913e-07</td>\n",
              "      <td>-1.012329e-13</td>\n",
              "      <td>1.699768e-10</td>\n",
              "      <td>-3.232466e-14</td>\n",
              "    </tr>\n",
              "    <tr>\n",
              "      <th>...</th>\n",
              "      <td>...</td>\n",
              "      <td>...</td>\n",
              "      <td>...</td>\n",
              "      <td>...</td>\n",
              "      <td>...</td>\n",
              "      <td>...</td>\n",
              "      <td>...</td>\n",
              "    </tr>\n",
              "    <tr>\n",
              "      <th>995</th>\n",
              "      <td>0.020236</td>\n",
              "      <td>3.033461e-05</td>\n",
              "      <td>8.205821e-07</td>\n",
              "      <td>4.060579e-08</td>\n",
              "      <td>-2.631824e-15</td>\n",
              "      <td>2.039957e-10</td>\n",
              "      <td>-6.929154e-15</td>\n",
              "    </tr>\n",
              "    <tr>\n",
              "      <th>996</th>\n",
              "      <td>0.016468</td>\n",
              "      <td>2.206734e-06</td>\n",
              "      <td>5.677155e-09</td>\n",
              "      <td>3.132966e-08</td>\n",
              "      <td>-3.431363e-16</td>\n",
              "      <td>-4.457857e-11</td>\n",
              "      <td>-2.384089e-16</td>\n",
              "    </tr>\n",
              "    <tr>\n",
              "      <th>997</th>\n",
              "      <td>0.015833</td>\n",
              "      <td>2.184595e-05</td>\n",
              "      <td>1.025667e-07</td>\n",
              "      <td>6.574165e-09</td>\n",
              "      <td>-1.288045e-16</td>\n",
              "      <td>2.004346e-11</td>\n",
              "      <td>-1.120356e-16</td>\n",
              "    </tr>\n",
              "    <tr>\n",
              "      <th>998</th>\n",
              "      <td>0.017108</td>\n",
              "      <td>1.190947e-05</td>\n",
              "      <td>2.610560e-08</td>\n",
              "      <td>4.063234e-08</td>\n",
              "      <td>1.263580e-15</td>\n",
              "      <td>9.565258e-11</td>\n",
              "      <td>-3.932178e-16</td>\n",
              "    </tr>\n",
              "    <tr>\n",
              "      <th>999</th>\n",
              "      <td>0.016640</td>\n",
              "      <td>8.068693e-06</td>\n",
              "      <td>2.609739e-09</td>\n",
              "      <td>8.370462e-08</td>\n",
              "      <td>5.495256e-17</td>\n",
              "      <td>8.017982e-11</td>\n",
              "      <td>1.235930e-15</td>\n",
              "    </tr>\n",
              "  </tbody>\n",
              "</table>\n",
              "<p>1000 rows × 7 columns</p>\n",
              "</div>"
            ],
            "text/plain": [
              "           H1            H2  ...            H6            H7\n",
              "0    0.023395  1.397257e-05  ...  2.611034e-09  1.707388e-13\n",
              "1    0.013967  4.756363e-06  ...  1.820996e-10  3.139236e-15\n",
              "2    0.013096  3.963340e-06  ...  7.930139e-11 -9.146609e-16\n",
              "3    0.019049  5.215492e-05  ...  1.265208e-09 -1.202414e-14\n",
              "4    0.016204  8.703406e-07  ...  1.699768e-10 -3.232466e-14\n",
              "..        ...           ...  ...           ...           ...\n",
              "995  0.020236  3.033461e-05  ...  2.039957e-10 -6.929154e-15\n",
              "996  0.016468  2.206734e-06  ... -4.457857e-11 -2.384089e-16\n",
              "997  0.015833  2.184595e-05  ...  2.004346e-11 -1.120356e-16\n",
              "998  0.017108  1.190947e-05  ...  9.565258e-11 -3.932178e-16\n",
              "999  0.016640  8.068693e-06  ...  8.017982e-11  1.235930e-15\n",
              "\n",
              "[1000 rows x 7 columns]"
            ]
          },
          "metadata": {
            "tags": []
          },
          "execution_count": 8
        }
      ]
    },
    {
      "cell_type": "code",
      "metadata": {
        "id": "9GmVr3oCyC0X",
        "colab_type": "code",
        "outputId": "532bafdd-ca32-4366-d2e6-13df6e0ba543",
        "colab": {
          "base_uri": "https://localhost:8080/",
          "height": 521
        }
      },
      "source": [
        "print(y_train.value_counts()) #mnmpilkn jum.data y_train brdsrkn value\n",
        "\n",
        "print(y_test.value_counts())  #mnmpilkn jum.data y_test brdsrkn value\n",
        "\n",
        "\n",
        "plt.figure(figsize=(6,6)) #mngtur ukuran skla grafik\n",
        "\n",
        "#mnmpilkn visualisasi grafik\n",
        "plt.subplot(2,1,1);y_train.value_counts().plot(kind='bar', color=['C0','C1','C2','C3','C4','C5','C6']);plt.title('TRAINING')\n",
        "plt.subplot(2,1,2);y_test.value_counts().plot(kind='bar', color=['C0','C1','C2','C3','C4','C5','C6']);plt.title('TESTING')"
      ],
      "execution_count": 0,
      "outputs": [
        {
          "output_type": "stream",
          "text": [
            "1.0    456\n",
            "0.0    444\n",
            "Name: Actual, dtype: int64\n",
            "0.0    56\n",
            "1.0    44\n",
            "Name: Actual, dtype: int64\n"
          ],
          "name": "stdout"
        },
        {
          "output_type": "execute_result",
          "data": {
            "text/plain": [
              "Text(0.5, 1.0, 'TESTING')"
            ]
          },
          "metadata": {
            "tags": []
          },
          "execution_count": 9
        },
        {
          "output_type": "display_data",
          "data": {
            "image/png": "[encoded data removed]",
            "text/plain": [
              "<Figure size 432x432 with 2 Axes>"
            ]
          },
          "metadata": {
            "tags": [],
            "needs_background": "light"
          }
        }
      ]
    },
    {
      "cell_type": "code",
      "metadata": {
        "id": "yLtyQFxCyJ67",
        "colab_type": "code",
        "outputId": "359e446c-43b4-41b4-c59f-fccc92196e58",
        "colab": {
          "base_uri": "https://localhost:8080/",
          "height": 248
        }
      },
      "source": [
        "#scaling data\n",
        "sc_x = StandardScaler()\n",
        "x_train = sc_x.fit_transform(x_train)\n",
        "\n",
        "x_test = sc_x.transform(x_test)\n",
        "x_train"
      ],
      "execution_count": 0,
      "outputs": [
        {
          "output_type": "execute_result",
          "data": {
            "text/plain": [
              "array([[-0.64770106, -0.0854025 , -0.55617883, ...,  0.03695635,\n",
              "        -0.31730072,  0.00617304],\n",
              "       [-0.91304998, -0.49491882,  0.00967987, ...,  0.2833584 ,\n",
              "         0.00692559,  0.39185601],\n",
              "       [ 0.74887131, -0.59883401, -0.31365867, ...,  0.03325492,\n",
              "        -0.30787656, -0.01811718],\n",
              "       ...,\n",
              "       [-1.238285  , -0.62701159, -0.55375738, ...,  0.03614081,\n",
              "        -0.2965754 ,  0.00734555],\n",
              "       [-0.61050511,  0.0890178 , -0.17107317, ...,  0.03586727,\n",
              "        -0.26015753,  0.01269381],\n",
              "       [-0.62951652, -0.5209628 , -0.5016798 , ...,  0.14306398,\n",
              "        -0.16193497, -0.10784303]])"
            ]
          },
          "metadata": {
            "tags": []
          },
          "execution_count": 10
        }
      ]
    },
    {
      "cell_type": "code",
      "metadata": {
        "id": "9G01pKQYbOxA",
        "colab_type": "code",
        "outputId": "c8116c73-03ae-47f0-80d0-a4629dc44231",
        "colab": {
          "base_uri": "https://localhost:8080/",
          "height": 35
        }
      },
      "source": [
        "math.sqrt(len(y_test))"
      ],
      "execution_count": 0,
      "outputs": [
        {
          "output_type": "execute_result",
          "data": {
            "text/plain": [
              "10.0"
            ]
          },
          "metadata": {
            "tags": []
          },
          "execution_count": 11
        }
      ]
    },
    {
      "cell_type": "code",
      "metadata": {
        "id": "D9oC0zSGy-Di",
        "colab_type": "code",
        "outputId": "7da82d99-74d3-4254-81e6-c8c32199c08a",
        "colab": {
          "base_uri": "https://localhost:8080/",
          "height": 70
        }
      },
      "source": [
        "#choose method knn and fitting\n",
        "classifier = KNeighborsClassifier(n_neighbors=10,p=2,metric='euclidean')\n",
        "classifier.fit (x_train, y_train)"
      ],
      "execution_count": 0,
      "outputs": [
        {
          "output_type": "execute_result",
          "data": {
            "text/plain": [
              "KNeighborsClassifier(algorithm='auto', leaf_size=30, metric='euclidean',\n",
              "                     metric_params=None, n_jobs=None, n_neighbors=10, p=2,\n",
              "                     weights='uniform')"
            ]
          },
          "metadata": {
            "tags": []
          },
          "execution_count": 12
        }
      ]
    },
    {
      "cell_type": "code",
      "metadata": {
        "id": "EeNdbCXnzACS",
        "colab_type": "code",
        "outputId": "5943c18f-3e11-4307-fa94-c2c6bfde17c1",
        "colab": {
          "base_uri": "https://localhost:8080/",
          "height": 124
        }
      },
      "source": [
        "#proses testing\n",
        "\n",
        "#hasil prediksi/testing dismpn ke (y_pred)\n",
        "y_pred = classifier.predict(x_test)\n",
        "y_pred"
      ],
      "execution_count": 0,
      "outputs": [
        {
          "output_type": "execute_result",
          "data": {
            "text/plain": [
              "array([1., 0., 0., 1., 0., 0., 0., 1., 0., 1., 1., 0., 0., 1., 1., 0., 0.,\n",
              "       0., 1., 1., 1., 1., 1., 0., 0., 0., 1., 1., 0., 0., 0., 0., 1., 0.,\n",
              "       1., 1., 1., 0., 0., 0., 0., 0., 0., 0., 1., 1., 1., 0., 1., 0., 1.,\n",
              "       0., 1., 1., 0., 0., 0., 0., 1., 0., 1., 1., 1., 1., 1., 1., 0., 0.,\n",
              "       1., 1., 1., 1., 1., 0., 0., 0., 0., 0., 0., 0., 0., 1., 0., 0., 1.,\n",
              "       1., 0., 0., 1., 1., 1., 1., 0., 0., 1., 0., 0., 0., 0., 1.])"
            ]
          },
          "metadata": {
            "tags": []
          },
          "execution_count": 13
        }
      ]
    },
    {
      "cell_type": "code",
      "metadata": {
        "id": "PKSk_yzazCh7",
        "colab_type": "code",
        "outputId": "d5377a33-3152-456a-8a0e-8964af58b0f3",
        "colab": {
          "base_uri": "https://localhost:8080/",
          "height": 124
        }
      },
      "source": [
        "#print result\n",
        "cm = confusion_matrix(y_test, y_pred)\n",
        "print (cm)\n",
        "print(\"Akurasi :\" , accuracy_score(y_test, y_pred))\n",
        "print(\"presisi :\" , precision_score(y_test, y_pred))\n",
        "print(\"recall :\" , recall_score(y_test, y_pred))\n",
        "print(\"F-Measure :\" , f1_score(y_test, y_pred))"
      ],
      "execution_count": 0,
      "outputs": [
        {
          "output_type": "stream",
          "text": [
            "[[47  9]\n",
            " [ 7 37]]\n",
            "Akurasi : 0.84\n",
            "presisi : 0.8043478260869565\n",
            "recall : 0.8409090909090909\n",
            "F-Measure : 0.8222222222222223\n"
          ],
          "name": "stdout"
        }
      ]
    },
    {
      "cell_type": "code",
      "metadata": {
        "id": "ntCAqq7fzE3u",
        "colab_type": "code",
        "outputId": "89ca84c8-414f-4c22-a6b0-bb3f0096d839",
        "colab": {
          "base_uri": "https://localhost:8080/",
          "height": 295
        }
      },
      "source": [
        "from matplotlib import pyplot as plt\n",
        "x = [\"K2\", \"K3\", \"K4\", \"K5\", \"K6\", \"K7\", \"K8\", \"K9\", \"K10\"]\n",
        "a = [79, 79, 82, 84, 81, 83, 82, 81, 84]\n",
        "p = [84, 73, 83, 75, 78, 76, 78, 72, 80]\n",
        "r = [63, 81, 75, 96, 80, 90, 81, 91, 84]\n",
        "f = [72, 77, 79, 84, 79, 83, 80, 81, 82]\n",
        "plt.plot(x, a, '--')\n",
        "plt.plot(x, p, '--')\n",
        "plt.plot(x, r, '--')\n",
        "plt.plot(x, f, '--')\n",
        "plt.title(\"Grafik Result\")\n",
        "plt.xlabel(\"Nilai K\")\n",
        "plt.ylabel(\"Performa\")\n",
        "plt.legend([\"Akurasi\", \"Presisi\", \"Recall\", \"F-measure\"])\n",
        "plt.grid()\n",
        "plt.show()"
      ],
      "execution_count": 0,
      "outputs": [
        {
          "output_type": "display_data",
          "data": {
            "image/png": "[encoded data removed]",
            "text/plain": [
              "<Figure size 432x288 with 1 Axes>"
            ]
          },
          "metadata": {
            "tags": [],
            "needs_background": "light"
          }
        }
      ]
    }
  ]
}
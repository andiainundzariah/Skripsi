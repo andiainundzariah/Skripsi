{
 "cells": [
  {
   "cell_type": "code",
   "execution_count": 16,
   "metadata": {},
   "outputs": [],
   "source": [
    "import pandas as pd\n",
    "import numpy as np\n",
    "import math\n",
    "\n",
    "from sklearn.model_selection import train_test_split\n",
    "from sklearn.preprocessing import StandardScaler \n",
    "from sklearn.neighbors import KNeighborsClassifier\n",
    "\n",
    "from sklearn.metrics import confusion_matrix\n",
    "from sklearn.metrics import f1_score\n",
    "from sklearn.metrics import accuracy_score\n",
    "from sklearn.metrics import precision_score\n",
    "from sklearn.metrics import recall_score\n",
    "\n",
    "from matplotlib import pyplot as pp"
   ]
  },
  {
   "cell_type": "code",
   "execution_count": 29,
   "metadata": {},
   "outputs": [
    {
     "name": "stdout",
     "output_type": "stream",
     "text": [
      "76\n",
      "     id     H1  H2   H3    H4   H5   H6  H7  Hasil Citra\n",
      "0     0  18393   2  168  62.0  110   80   1            1\n",
      "1     1  20228   1  156  85.0  140   90   2            1\n",
      "2     2  18857   1  165  64.0  130   70   2            1\n",
      "3     3  17623   2  169  82.0  150  100   1            1\n",
      "4     4  17474   1  156  56.0  100   60   1            1\n",
      "..  ...    ...  ..  ...   ...  ...  ...  ..          ...\n",
      "71   96  21874   2  179  95.0  150   90   1            1\n",
      "72   97  23433   1  156  58.0  110   70   1            1\n",
      "73   98  16039   2  180  90.0  140   90   2            2\n",
      "74   99  20484   1  158  75.0  130   90   1            1\n",
      "75  100  21934   1  157  77.0  140   90   1            1\n",
      "\n",
      "[76 rows x 9 columns]\n"
     ]
    }
   ],
   "source": [
    "#load dataset\n",
    "dataset = pd.read_csv('malaria.csv')\n",
    "print (len(dataset))\n",
    "#dataset.Type.value_counts().plot(kind='bar')\n",
    "print (dataset)"
   ]
  },
  {
   "cell_type": "code",
   "execution_count": 30,
   "metadata": {},
   "outputs": [],
   "source": [
    "#replace NaN\n",
    "zero_not_accepted = [ 'H1', 'H2', 'H3', 'H4', 'H5', 'H6', 'H7' ]\n",
    "\n",
    "for colum in zero_not_accepted:\n",
    "   # dataset [colum] = dataset[colum].replace(0, np.NaN)\n",
    "    mean = int(dataset[colum].mean(skipna=True))\n",
    "    dataset[colum] = dataset[colum].replace(np.NaN, mean)"
   ]
  },
  {
   "cell_type": "code",
   "execution_count": 31,
   "metadata": {},
   "outputs": [
    {
     "name": "stdout",
     "output_type": "stream",
     "text": [
      "8\n",
      "68\n",
      "76\n"
     ]
    },
    {
     "data": {
      "text/plain": [
       "0     1\n",
       "1     2\n",
       "2     2\n",
       "3     1\n",
       "4     1\n",
       "     ..\n",
       "71    1\n",
       "72    1\n",
       "73    2\n",
       "74    1\n",
       "75    1\n",
       "Name: H7, Length: 76, dtype: int64"
      ]
     },
     "execution_count": 31,
     "metadata": {},
     "output_type": "execute_result"
    }
   ],
   "source": [
    "#split target and attribute\n",
    "x = dataset.iloc[:, 1:7]\n",
    "y = dataset.iloc[:, 7]\n",
    "#split train n test dataset\n",
    "x_train, x_test, y_train, y_test = train_test_split(x,y, random_state=0, test_size=0.1)\n",
    "print(len(y_test))\n",
    "print(len(x_train))\n",
    "print(len(dataset))\n",
    "y"
   ]
  },
  {
   "cell_type": "code",
   "execution_count": 32,
   "metadata": {},
   "outputs": [
    {
     "data": {
      "text/plain": [
       "Text(0.5, 1.0, 'testing')"
      ]
     },
     "execution_count": 32,
     "metadata": {},
     "output_type": "execute_result"
    },
    {
     "data": {
      "image/png": "[encoded data removed]",
      "text/plain": [
       "<Figure size 360x288 with 2 Axes>"
      ]
     },
     "metadata": {
      "needs_background": "light"
     },
     "output_type": "display_data"
    }
   ],
   "source": [
    "x_train\n",
    "x_test\n",
    "y_train\n",
    "len(y_test)\n",
    "\n",
    "pp.figure(figsize=(5,4))\n",
    "pp.subplot(2,1,1);y_train.value_counts().plot(kind='bar', color=['C1','C1','C2','C3','C4','C5','C6']);pp.title('training')\n",
    "pp.subplot(2,1,2);y_test.value_counts().plot(kind='bar', color=['C0','C1','C2','C3','C4','C5','C6']);pp.title('testing')"
   ]
  },
  {
   "cell_type": "code",
   "execution_count": 33,
   "metadata": {},
   "outputs": [
    {
     "data": {
      "text/plain": [
       "array([[ 1.05908724,  1.27097782,  1.08883992,  0.5865244 ,  0.74241119,\n",
       "         0.87217787],\n",
       "       [ 1.32474625,  1.27097782,  1.7173723 ,  1.48201242,  0.16872982,\n",
       "         0.87217787],\n",
       "       [ 0.48816786,  1.27097782, -0.67105075, -0.7222658 , -0.40495156,\n",
       "        -1.92977939],\n",
       "       [ 0.43660361, -0.78679579, -0.04251837, -0.6533821 ,  3.03713669,\n",
       "         0.87217787],\n",
       "       [-0.4531891 , -0.78679579,  1.7173723 , -0.37784732, -0.97863293,\n",
       "        -0.06180788],\n",
       "       [ 0.19610794, -0.78679579, -0.9224637 , -0.79114949, -0.97863293,\n",
       "        -0.99579363],\n",
       "       [ 0.5277692 , -0.78679579, -0.54534427, -0.03342885,  0.16872982,\n",
       "         0.405185  ],\n",
       "       [ 0.15114392, -0.78679579, -1.55099608,  0.17322223,  1.88977394,\n",
       "         1.80616363],\n",
       "       [-0.53115424, -0.78679579, -0.67105075,  0.31098962, -0.40495156,\n",
       "        -0.06180788],\n",
       "       [-1.37268281, -0.78679579,  0.71172049, -0.30896363, -0.40495156,\n",
       "        -0.99579363],\n",
       "       [-0.11038996, -0.78679579, -0.67105075, -1.06668427, -0.97863293,\n",
       "        -0.99579363],\n",
       "       [-0.81083874, -0.78679579,  0.83742697,  0.17322223, -2.12599568,\n",
       "        -1.92977939],\n",
       "       [ 1.13045216, -0.78679579, -0.9224637 ,  1.34424504,  0.16872982,\n",
       "        -0.06180788],\n",
       "       [-0.4680396 , -0.78679579, -0.54534427,  0.10433854, -1.55231431,\n",
       "        -1.92977939],\n",
       "       [ 0.62264742, -0.78679579, -0.9224637 , -1.41110274, -0.97863293,\n",
       "        -0.99579363],\n",
       "       [-0.7832003 , -0.78679579, -1.04817018, -1.20445166, -1.55231431,\n",
       "        -1.92977939],\n",
       "       [-0.09265186,  1.27097782,  0.71172049, -0.30896363,  0.16872982,\n",
       "        -0.06180788],\n",
       "       [-1.03483384,  1.27097782,  1.34025287, -0.24007993, -0.40495156,\n",
       "        -0.06180788],\n",
       "       [-0.21269343, -0.78679579,  0.08318811, -0.6533821 ,  0.16872982,\n",
       "        -0.99579363],\n",
       "       [-0.78443784, -0.78679579, -0.29393132, -0.6533821 ,  0.74241119,\n",
       "         0.87217787],\n",
       "       [ 0.39493969,  1.27097782,  2.84873058,  2.85968631,  0.16872982,\n",
       "         0.87217787],\n",
       "       [-0.23001902,  1.27097782,  1.08883992, -0.92891688, -0.40495156,\n",
       "        -0.06180788],\n",
       "       [-0.44617636, -0.78679579, -1.17387665,  2.17084937, -0.40495156,\n",
       "        -0.06180788],\n",
       "       [-0.72173571,  1.27097782,  0.58601401,  0.5865244 ,  1.31609257,\n",
       "         1.80616363],\n",
       "       [ 1.3259838 , -0.78679579,  0.71172049,  0.79317548, -0.40495156,\n",
       "        -0.06180788],\n",
       "       [ 1.3024705 , -0.78679579,  0.58601401,  0.44875701, -0.40495156,\n",
       "        -0.06180788],\n",
       "       [ 1.57307968, -0.78679579,  0.58601401, -0.17119624,  0.74241119,\n",
       "         0.87217787],\n",
       "       [ 1.65640751,  1.27097782, -0.29393132, -0.10231255,  0.16872982,\n",
       "        -0.06180788],\n",
       "       [ 0.99597259,  1.27097782,  0.08318811, -0.03342885, -0.11811087,\n",
       "         0.87217787],\n",
       "       [ 0.35286326, -0.78679579, -1.04817018,  0.79317548,  0.74241119,\n",
       "         0.87217787],\n",
       "       [-1.96670297, -0.78679579, -0.67105075, -0.92891688, -0.97863293,\n",
       "        -0.99579363],\n",
       "       [-1.37515789,  1.27097782,  1.96878525,  1.13759395,  0.74241119,\n",
       "         0.87217787],\n",
       "       [-1.99681649,  1.27097782,  2.09449173,  1.48201242,  0.16872982,\n",
       "         0.87217787],\n",
       "       [ 0.86726823,  1.27097782,  0.83742697, -0.30896363,  0.74241119,\n",
       "         0.87217787],\n",
       "       [ 0.98277215,  1.27097782, -0.29393132, -1.20445166, -0.40495156,\n",
       "        -0.99579363],\n",
       "       [ 0.69483737,  1.27097782,  0.58601401,  0.03545484,  0.16872982,\n",
       "        -0.99579363],\n",
       "       [ 0.65482351,  1.27097782,  0.08318811,  0.10433854,  3.03713669,\n",
       "         0.87217787],\n",
       "       [ 0.42546573, -0.78679579, -0.16822484, -1.27333535, -0.40495156,\n",
       "        -0.06180788],\n",
       "       [-0.77990019, -0.78679579, -1.29958313, -0.37784732, -1.55231431,\n",
       "        -0.99579363],\n",
       "       [-0.40409993,  1.27097782,  0.46030754, -0.79114949, -0.97863293,\n",
       "        -0.06180788],\n",
       "       [ 0.45846685, -0.78679579, -0.79675722,  0.10433854,  0.16872982,\n",
       "         0.87217787],\n",
       "       [-1.06865999,  1.27097782,  0.96313344,  2.65303523, -0.40495156,\n",
       "        -0.06180788],\n",
       "       [ 1.04836187, -0.78679579, -1.67670256, -0.44673102, -0.40495156,\n",
       "        -0.06180788],\n",
       "       [-2.00712934, -0.78679579,  0.08318811,  0.24210593,  0.4555705 ,\n",
       "         0.87217787],\n",
       "       [ 0.79342822, -0.78679579,  0.71172049,  0.10433854,  0.16872982,\n",
       "        -0.99579363],\n",
       "       [-0.4267882 , -0.78679579,  0.58601401,  0.72429179,  1.31609257,\n",
       "         1.80616363],\n",
       "       [ 0.16723196,  1.27097782, -0.16822484,  0.65540809, -0.40495156,\n",
       "        -0.06180788],\n",
       "       [ 1.73932283, -0.78679579, -1.17387665, -1.13556796, -0.40495156,\n",
       "        -0.06180788],\n",
       "       [-0.70317258, -0.78679579, -0.79675722, -0.17119624, -0.97863293,\n",
       "        -0.99579363],\n",
       "       [ 0.1800199 , -0.78679579, -0.79675722,  0.31098962, -0.97863293,\n",
       "        -0.99579363],\n",
       "       [-2.0294051 , -0.78679579, -1.4252896 , -0.58449841,  0.16872982,\n",
       "         1.80616363],\n",
       "       [-0.57611827, -0.78679579, -0.04251837, -0.24007993,  0.16872982,\n",
       "         0.87217787],\n",
       "       [-1.08309798, -0.78679579, -0.79675722, -1.47998643, -0.97863293,\n",
       "        -0.99579363],\n",
       "       [-1.14043742, -0.78679579,  0.71172049, -0.37784732,  1.31609257,\n",
       "         0.87217787],\n",
       "       [-0.48082753, -0.78679579, -0.29393132,  2.30861676,  1.31609257,\n",
       "         0.87217787],\n",
       "       [ 1.65145734,  1.27097782, -1.04817018, -1.96217229, -0.97863293,\n",
       "        -1.92977939],\n",
       "       [-0.51424117, -0.78679579,  0.08318811, -0.24007993,  0.74241119,\n",
       "         0.87217787],\n",
       "       [ 0.9815346 , -0.78679579, -2.05382198,  0.44875701,  0.16872982,\n",
       "         0.87217787],\n",
       "       [-1.43208482,  1.27097782,  0.96313344,  0.72429179,  0.74241119,\n",
       "         0.87217787],\n",
       "       [-1.88997537,  1.27097782,  0.08318811, -0.92891688, -0.40495156,\n",
       "        -0.06180788],\n",
       "       [-0.43091334,  1.27097782,  1.34025287,  1.48201242, -0.40495156,\n",
       "        -0.06180788],\n",
       "       [ 0.84169236, -0.78679579, -0.9224637 , -0.30896363,  0.16872982,\n",
       "        -0.06180788],\n",
       "       [ 0.19033275, -0.78679579, -0.04251837, -0.37784732, -0.97863293,\n",
       "        -1.92977939],\n",
       "       [ 1.67497064, -0.78679579, -1.04817018, -1.06668427, -0.97863293,\n",
       "        -0.99579363],\n",
       "       [ 1.12467696,  1.27097782,  0.83742697,  1.61977981,  1.31609257,\n",
       "         1.80616363],\n",
       "       [ 0.52653166,  1.27097782,  0.58601401, -0.17119624, -0.40495156,\n",
       "        -0.06180788],\n",
       "       [-0.34552294,  1.27097782,  0.46030754, -0.30896363, -0.40495156,\n",
       "        -0.06180788],\n",
       "       [ 0.16145677, -0.78679579, -1.29958313, -1.61775382,  2.46345532,\n",
       "        -0.06180788]])"
      ]
     },
     "execution_count": 33,
     "metadata": {},
     "output_type": "execute_result"
    }
   ],
   "source": [
    "#scaling data\n",
    "sc_x = StandardScaler()\n",
    "x_train = sc_x.fit_transform(x_train)\n",
    "x_test = sc_x.transform(x_test)\n",
    "x_train"
   ]
  },
  {
   "cell_type": "code",
   "execution_count": 34,
   "metadata": {},
   "outputs": [
    {
     "data": {
      "text/plain": [
       "2.8284271247461903"
      ]
     },
     "execution_count": 34,
     "metadata": {},
     "output_type": "execute_result"
    }
   ],
   "source": [
    "math.sqrt(len(y_test))"
   ]
  },
  {
   "cell_type": "code",
   "execution_count": 35,
   "metadata": {},
   "outputs": [
    {
     "data": {
      "text/plain": [
       "KNeighborsClassifier(algorithm='auto', leaf_size=30, metric='euclidean',\n",
       "                     metric_params=None, n_jobs=None, n_neighbors=3, p=2,\n",
       "                     weights='uniform')"
      ]
     },
     "execution_count": 35,
     "metadata": {},
     "output_type": "execute_result"
    }
   ],
   "source": [
    "#choose method and fitting\n",
    "classifier = KNeighborsClassifier(n_neighbors=3,p=2,metric='euclidean')\n",
    "classifier.fit (x_train, y_train)"
   ]
  },
  {
   "cell_type": "code",
   "execution_count": 36,
   "metadata": {},
   "outputs": [
    {
     "data": {
      "text/plain": [
       "array([2, 1, 2, 1, 1, 1, 2, 1], dtype=int64)"
      ]
     },
     "execution_count": 36,
     "metadata": {},
     "output_type": "execute_result"
    }
   ],
   "source": [
    "#testing fsts\n",
    "y_pred = classifier.predict(x_test)\n",
    "y_pred"
   ]
  },
  {
   "cell_type": "code",
   "execution_count": 37,
   "metadata": {},
   "outputs": [
    {
     "name": "stdout",
     "output_type": "stream",
     "text": [
      "[[5 2]\n",
      " [0 1]]\n",
      "Akurasi : 0.75\n",
      "presisi : [1.         0.33333333]\n",
      "recall : [0.71428571 1.        ]\n",
      "F-Measure : [0.83333333 0.5       ]\n"
     ]
    }
   ],
   "source": [
    "#print result\n",
    "cm = confusion_matrix(y_test, y_pred)\n",
    "print (cm)\n",
    "print(\"Akurasi :\" , accuracy_score(y_test, y_pred))\n",
    "print(\"presisi :\" , precision_score(y_test, y_pred, average=None))\n",
    "print(\"recall :\" , recall_score(y_test, y_pred, average=None))\n",
    "print(\"F-Measure :\" , f1_score(y_test, y_pred, average=None))"
   ]
  },
  {
   "cell_type": "code",
   "execution_count": 38,
   "metadata": {},
   "outputs": [
    {
     "data": {
      "image/png": "[encoded data removed]",
      "text/plain": [
       "<Figure size 432x288 with 1 Axes>"
      ]
     },
     "metadata": {
      "needs_background": "light"
     },
     "output_type": "display_data"
    }
   ],
   "source": [
    "from matplotlib import pyplot as plt\n",
    "x = [\"K3\", \"K4\", \"K5\", \"K6\", \"K7\"]\n",
    "a = [80, 83, 81, 84, 85]\n",
    "p = [10, 5, 0, 1, 12]\n",
    "r = [90, 91, 93, 98, 92]\n",
    "f = [40, 23, 45, 77, 99]\n",
    "plt.plot(x, a, '--')\n",
    "plt.plot(x, p, '--')\n",
    "plt.plot(x, r, '--')\n",
    "plt.plot(x, f, '--')\n",
    "plt.title(\"grafik result\")\n",
    "plt.xlabel(\"nilai K\")\n",
    "plt.ylabel(\"performa\")\n",
    "plt.legend([\"akurasi\", \"presisi\", \"recall\", \"f-measure\"])\n",
    "plt.grid()\n",
    "plt.show()"
   ]
  },
  {
   "cell_type": "code",
   "execution_count": null,
   "metadata": {},
   "outputs": [],
   "source": []
  }
 ],
 "metadata": {
  "kernelspec": {
   "display_name": "Python 3",
   "language": "python",
   "name": "python3"
  },
  "language_info": {
   "codemirror_mode": {
    "name": "ipython",
    "version": 3
   },
   "file_extension": ".py",
   "mimetype": "text/x-python",
   "name": "python",
   "nbconvert_exporter": "python",
   "pygments_lexer": "ipython3",
   "version": "3.7.4"
  }
 },
 "nbformat": 4,
 "nbformat_minor": 4
}
